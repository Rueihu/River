{
 "cells": [
  {
   "cell_type": "code",
   "execution_count": 2,
   "id": "b0036e76",
   "metadata": {},
   "outputs": [],
   "source": [
    "import pandas\n",
    "df= pandas.read_csv('D:/Cousera/練習檔案/flavors_of_cacao.csv')"
   ]
  },
  {
   "cell_type": "code",
   "execution_count": 9,
   "id": "ac455990",
   "metadata": {},
   "outputs": [
    {
     "data": {
      "text/html": [
       "<div>\n",
       "<style scoped>\n",
       "    .dataframe tbody tr th:only-of-type {\n",
       "        vertical-align: middle;\n",
       "    }\n",
       "\n",
       "    .dataframe tbody tr th {\n",
       "        vertical-align: top;\n",
       "    }\n",
       "\n",
       "    .dataframe thead th {\n",
       "        text-align: right;\n",
       "    }\n",
       "</style>\n",
       "<table border=\"1\" class=\"dataframe\">\n",
       "  <thead>\n",
       "    <tr style=\"text-align: right;\">\n",
       "      <th></th>\n",
       "      <th>Company \\n(Maker-if known)</th>\n",
       "      <th>Specific Bean Origin\\nor Bar Name</th>\n",
       "      <th>REF</th>\n",
       "      <th>Review\\nDate</th>\n",
       "      <th>Cocoa\\nPercent</th>\n",
       "      <th>Company\\nLocation</th>\n",
       "      <th>Rating</th>\n",
       "      <th>Bean\\nType</th>\n",
       "      <th>Broad Bean\\nOrigin</th>\n",
       "    </tr>\n",
       "  </thead>\n",
       "  <tbody>\n",
       "    <tr>\n",
       "      <th>0</th>\n",
       "      <td>A. Morin</td>\n",
       "      <td>Agua Grande</td>\n",
       "      <td>1876</td>\n",
       "      <td>2016</td>\n",
       "      <td>63%</td>\n",
       "      <td>France</td>\n",
       "      <td>3.75</td>\n",
       "      <td></td>\n",
       "      <td>Sao Tome</td>\n",
       "    </tr>\n",
       "    <tr>\n",
       "      <th>1</th>\n",
       "      <td>A. Morin</td>\n",
       "      <td>Kpime</td>\n",
       "      <td>1676</td>\n",
       "      <td>2015</td>\n",
       "      <td>70%</td>\n",
       "      <td>France</td>\n",
       "      <td>2.75</td>\n",
       "      <td></td>\n",
       "      <td>Togo</td>\n",
       "    </tr>\n",
       "    <tr>\n",
       "      <th>2</th>\n",
       "      <td>A. Morin</td>\n",
       "      <td>Atsane</td>\n",
       "      <td>1676</td>\n",
       "      <td>2015</td>\n",
       "      <td>70%</td>\n",
       "      <td>France</td>\n",
       "      <td>3.00</td>\n",
       "      <td></td>\n",
       "      <td>Togo</td>\n",
       "    </tr>\n",
       "    <tr>\n",
       "      <th>3</th>\n",
       "      <td>A. Morin</td>\n",
       "      <td>Akata</td>\n",
       "      <td>1680</td>\n",
       "      <td>2015</td>\n",
       "      <td>70%</td>\n",
       "      <td>France</td>\n",
       "      <td>3.50</td>\n",
       "      <td></td>\n",
       "      <td>Togo</td>\n",
       "    </tr>\n",
       "    <tr>\n",
       "      <th>4</th>\n",
       "      <td>A. Morin</td>\n",
       "      <td>Quilla</td>\n",
       "      <td>1704</td>\n",
       "      <td>2015</td>\n",
       "      <td>70%</td>\n",
       "      <td>France</td>\n",
       "      <td>3.50</td>\n",
       "      <td></td>\n",
       "      <td>Peru</td>\n",
       "    </tr>\n",
       "    <tr>\n",
       "      <th>5</th>\n",
       "      <td>A. Morin</td>\n",
       "      <td>Carenero</td>\n",
       "      <td>1315</td>\n",
       "      <td>2014</td>\n",
       "      <td>70%</td>\n",
       "      <td>France</td>\n",
       "      <td>2.75</td>\n",
       "      <td>Criollo</td>\n",
       "      <td>Venezuela</td>\n",
       "    </tr>\n",
       "  </tbody>\n",
       "</table>\n",
       "</div>"
      ],
      "text/plain": [
       "  Company \\n(Maker-if known) Specific Bean Origin\\nor Bar Name   REF  \\\n",
       "0                   A. Morin                       Agua Grande  1876   \n",
       "1                   A. Morin                             Kpime  1676   \n",
       "2                   A. Morin                            Atsane  1676   \n",
       "3                   A. Morin                             Akata  1680   \n",
       "4                   A. Morin                            Quilla  1704   \n",
       "5                   A. Morin                          Carenero  1315   \n",
       "\n",
       "   Review\\nDate Cocoa\\nPercent Company\\nLocation  Rating Bean\\nType  \\\n",
       "0          2016            63%            France    3.75              \n",
       "1          2015            70%            France    2.75              \n",
       "2          2015            70%            France    3.00              \n",
       "3          2015            70%            France    3.50              \n",
       "4          2015            70%            France    3.50              \n",
       "5          2014            70%            France    2.75    Criollo   \n",
       "\n",
       "  Broad Bean\\nOrigin  \n",
       "0           Sao Tome  \n",
       "1               Togo  \n",
       "2               Togo  \n",
       "3               Togo  \n",
       "4               Peru  \n",
       "5          Venezuela  "
      ]
     },
     "execution_count": 9,
     "metadata": {},
     "output_type": "execute_result"
    }
   ],
   "source": [
    "df=df.dropna()\n",
    "df[:6]"
   ]
  },
  {
   "cell_type": "code",
   "execution_count": 20,
   "id": "5f82725f",
   "metadata": {},
   "outputs": [
    {
     "data": {
      "text/html": [
       "<div>\n",
       "<style scoped>\n",
       "    .dataframe tbody tr th:only-of-type {\n",
       "        vertical-align: middle;\n",
       "    }\n",
       "\n",
       "    .dataframe tbody tr th {\n",
       "        vertical-align: top;\n",
       "    }\n",
       "\n",
       "    .dataframe thead th {\n",
       "        text-align: right;\n",
       "    }\n",
       "</style>\n",
       "<table border=\"1\" class=\"dataframe\">\n",
       "  <thead>\n",
       "    <tr style=\"text-align: right;\">\n",
       "      <th></th>\n",
       "      <th>Company \\n(Maker-if known)</th>\n",
       "      <th>Specific Bean Origin\\nor Bar Name</th>\n",
       "      <th>REF</th>\n",
       "      <th>Review\\nDate</th>\n",
       "      <th>Cocoa\\nPercent</th>\n",
       "      <th>Company\\nLocation</th>\n",
       "      <th>Rating</th>\n",
       "      <th>Bean\\nType</th>\n",
       "      <th>Broad Bean\\nOrigin</th>\n",
       "    </tr>\n",
       "  </thead>\n",
       "  <tbody>\n",
       "    <tr>\n",
       "      <th>86</th>\n",
       "      <td>Amedei</td>\n",
       "      <td>Toscano Black</td>\n",
       "      <td>40</td>\n",
       "      <td>2006</td>\n",
       "      <td>70%</td>\n",
       "      <td>Italy</td>\n",
       "      <td>5.0</td>\n",
       "      <td>Blend</td>\n",
       "      <td></td>\n",
       "    </tr>\n",
       "    <tr>\n",
       "      <th>78</th>\n",
       "      <td>Amedei</td>\n",
       "      <td>Chuao</td>\n",
       "      <td>111</td>\n",
       "      <td>2007</td>\n",
       "      <td>70%</td>\n",
       "      <td>Italy</td>\n",
       "      <td>5.0</td>\n",
       "      <td>Trinitario</td>\n",
       "      <td>Venezuela</td>\n",
       "    </tr>\n",
       "    <tr>\n",
       "      <th>863</th>\n",
       "      <td>Idilio (Felchlin)</td>\n",
       "      <td>Carenero Superior, Urrutia, Barlovento</td>\n",
       "      <td>737</td>\n",
       "      <td>2011</td>\n",
       "      <td>70%</td>\n",
       "      <td>Switzerland</td>\n",
       "      <td>4.0</td>\n",
       "      <td>Trinitario</td>\n",
       "      <td>Venezuela</td>\n",
       "    </tr>\n",
       "    <tr>\n",
       "      <th>256</th>\n",
       "      <td>Brasstown aka It's Chocolate</td>\n",
       "      <td>Chuao</td>\n",
       "      <td>1355</td>\n",
       "      <td>2014</td>\n",
       "      <td>70%</td>\n",
       "      <td>U.S.A.</td>\n",
       "      <td>4.0</td>\n",
       "      <td>Trinitario</td>\n",
       "      <td>Venezuela</td>\n",
       "    </tr>\n",
       "    <tr>\n",
       "      <th>117</th>\n",
       "      <td>Arete</td>\n",
       "      <td>Chuno</td>\n",
       "      <td>1598</td>\n",
       "      <td>2015</td>\n",
       "      <td>70%</td>\n",
       "      <td>U.S.A.</td>\n",
       "      <td>4.0</td>\n",
       "      <td>Criollo, Trinitario</td>\n",
       "      <td>Nicaragua</td>\n",
       "    </tr>\n",
       "  </tbody>\n",
       "</table>\n",
       "</div>"
      ],
      "text/plain": [
       "       Company \\n(Maker-if known)       Specific Bean Origin\\nor Bar Name  \\\n",
       "86                         Amedei                           Toscano Black   \n",
       "78                         Amedei                                   Chuao   \n",
       "863             Idilio (Felchlin)  Carenero Superior, Urrutia, Barlovento   \n",
       "256  Brasstown aka It's Chocolate                                   Chuao   \n",
       "117                         Arete                                   Chuno   \n",
       "\n",
       "      REF  Review\\nDate Cocoa\\nPercent Company\\nLocation  Rating  \\\n",
       "86     40          2006            70%             Italy     5.0   \n",
       "78    111          2007            70%             Italy     5.0   \n",
       "863   737          2011            70%       Switzerland     4.0   \n",
       "256  1355          2014            70%            U.S.A.     4.0   \n",
       "117  1598          2015            70%            U.S.A.     4.0   \n",
       "\n",
       "              Bean\\nType Broad Bean\\nOrigin  \n",
       "86                 Blend                     \n",
       "78            Trinitario          Venezuela  \n",
       "863           Trinitario          Venezuela  \n",
       "256           Trinitario          Venezuela  \n",
       "117  Criollo, Trinitario          Nicaragua  "
      ]
     },
     "execution_count": 20,
     "metadata": {},
     "output_type": "execute_result"
    }
   ],
   "source": [
    "df.sort_values(\"Rating\", ascending=False).head()\n",
    "#印出巧克力棒分數排名前幾名"
   ]
  },
  {
   "cell_type": "code",
   "execution_count": 40,
   "id": "f0df591c",
   "metadata": {},
   "outputs": [],
   "source": [
    "filter=(df[\"Bean\\nType\"]=='Trinitario')\n",
    "bean=df[filter]\n",
    "\n",
    "#假設最好的咖啡豆是'Trinitario',接著想找出他的生產地"
   ]
  },
  {
   "cell_type": "code",
   "execution_count": 46,
   "id": "3003cfb4",
   "metadata": {},
   "outputs": [],
   "source": [
    "origin=bean.groupby('Broad Bean\\nOrigin')\n",
    "#使用pandas的函式 依照產地做分組，然後印出各分組數量"
   ]
  },
  {
   "cell_type": "code",
   "execution_count": 48,
   "id": "11ca6895",
   "metadata": {},
   "outputs": [
    {
     "data": {
      "text/plain": [
       "Broad Bean\\nOrigin\n",
       "Belize                 39\n",
       "Bolivia                 1\n",
       "Brazil                  4\n",
       "Carribean               2\n",
       "Colombia                8\n",
       "Costa Rica              2\n",
       "Cuba                    5\n",
       "Domincan Republic       3\n",
       "Dominican Republic     12\n",
       "Ecuador                 9\n",
       "Fiji                    6\n",
       "Ghana                   1\n",
       "Grenada                17\n",
       "Guatemala               3\n",
       "Honduras                3\n",
       "Indonesia               3\n",
       "Jamaica                19\n",
       "Madagascar            110\n",
       "Malaysia                1\n",
       "Mexico                  4\n",
       "Nicaragua               7\n",
       "PNG, Vanuatu, Mad       1\n",
       "Papua New Guinea        8\n",
       "Peru                    3\n",
       "Philippines             2\n",
       "South America           1\n",
       "St. Lucia               4\n",
       "Suriname                1\n",
       "Tanzania                4\n",
       "Tobago                  1\n",
       "Trinidad               33\n",
       "Vanuatu                 6\n",
       "Venezuela              57\n",
       "Vietnam                37\n",
       "                        1\n",
       "dtype: int64"
      ]
     },
     "execution_count": 48,
     "metadata": {},
     "output_type": "execute_result"
    }
   ],
   "source": [
    "origin.size()\n",
    "#看起來主要產地是Madagascar "
   ]
  },
  {
   "cell_type": "code",
   "execution_count": 49,
   "id": "e58a8107",
   "metadata": {},
   "outputs": [],
   "source": [
    "#What’s the relationship between cocoa solids percentage and rating? \n",
    "#下一個分析目標\n",
    "#參考資料: https://ithelp.ithome.com.tw/articles/10194027\n",
    "#資料集來源:https://www.kaggle.com/rtatman/chocolate-bar-ratings"
   ]
  },
  {
   "cell_type": "code",
   "execution_count": 56,
   "id": "511a8143",
   "metadata": {},
   "outputs": [
    {
     "data": {
      "text/plain": [
       "<AxesSubplot:xlabel='Rating', ylabel='Cocoa\\nPercent'>"
      ]
     },
     "execution_count": 56,
     "metadata": {},
     "output_type": "execute_result"
    },
    {
     "data": {
      "image/png": "[encoded data removed]",
      "text/plain": [
       "<Figure size 432x288 with 1 Axes>"
      ]
     },
     "metadata": {
      "needs_background": "light"
     },
     "output_type": "display_data"
    },
    {
     "data": {
      "image/png": "[encoded data removed]",
      "text/plain": [
       "<Figure size 432x288 with 1 Axes>"
      ]
     },
     "metadata": {
      "needs_background": "light"
     },
     "output_type": "display_data"
    }
   ],
   "source": [
    "import matplotlib.pyplot as plt\n",
    "#使用matplotlib套件繪關係圖\n",
    "#scatter 先用離散圖\n",
    "df.plot()\n",
    "df.plot(kind='scatter', x = 'Rating' , y = 'Cocoa\\nPercent')"
   ]
  },
  {
   "cell_type": "code",
   "execution_count": null,
   "id": "29f2eb7f",
   "metadata": {},
   "outputs": [],
   "source": []
  }
 ],
 "metadata": {
  "kernelspec": {
   "display_name": "Python 3 (ipykernel)",
   "language": "python",
   "name": "python3"
  },
  "language_info": {
   "codemirror_mode": {
    "name": "ipython",
    "version": 3
   },
   "file_extension": ".py",
   "mimetype": "text/x-python",
   "name": "python",
   "nbconvert_exporter": "python",
   "pygments_lexer": "ipython3",
   "version": "3.9.7"
  }
 },
 "nbformat": 4,
 "nbformat_minor": 5
}
